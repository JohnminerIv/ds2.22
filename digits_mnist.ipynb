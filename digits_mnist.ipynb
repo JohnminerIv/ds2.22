{
 "cells": [
  {
   "cell_type": "code",
   "execution_count": 1,
   "metadata": {},
   "outputs": [],
   "source": [
    "import keras\n",
    "import matplotlib.pyplot as plt #This package is for plotting\n",
    "%matplotlib inline  \n",
    "import numpy as np\n",
    "from keras.datasets import mnist\n",
    "from keras.models import Sequential\n",
    "from keras.layers import Dense, Input, Dropout\n",
    "from keras.optimizers import SGD\n",
    "from keras.initializers import RandomNormal\n",
    "from keras.models import load_model"
   ]
  },
  {
   "cell_type": "code",
   "execution_count": 2,
   "metadata": {},
   "outputs": [
    {
     "name": "stdout",
     "output_type": "stream",
     "text": [
      "Downloading data from https://storage.googleapis.com/tensorflow/tf-keras-datasets/mnist.npz\n",
      "11493376/11490434 [==============================] - 19s 2us/step\n"
     ]
    }
   ],
   "source": [
    "(X_train, y_train), (X_test, y_test) = mnist.load_data()"
   ]
  },
  {
   "cell_type": "code",
   "execution_count": 3,
   "metadata": {},
   "outputs": [],
   "source": [
    "x_train = np.reshape(X_train,[-1, 28*28])\n",
    "x_test = np.reshape(X_test,[-1, 28*28])"
   ]
  },
  {
   "cell_type": "code",
   "execution_count": 4,
   "metadata": {},
   "outputs": [
    {
     "data": {
      "text/plain": [
       "784"
      ]
     },
     "execution_count": 4,
     "metadata": {},
     "output_type": "execute_result"
    }
   ],
   "source": [
    "28*28"
   ]
  },
  {
   "cell_type": "code",
   "execution_count": 5,
   "metadata": {},
   "outputs": [],
   "source": [
    "x_train = x_train/np.max(x_train)\n",
    "x_test = x_test/np.max(x_test)"
   ]
  },
  {
   "cell_type": "code",
   "execution_count": 6,
   "metadata": {},
   "outputs": [],
   "source": [
    "y_train = keras.utils.to_categorical(y_train, 10)\n",
    "y_test = keras.utils.to_categorical(y_test, 10)"
   ]
  },
  {
   "cell_type": "code",
   "execution_count": 8,
   "metadata": {},
   "outputs": [],
   "source": [
    "model = keras.Sequential()\n",
    "model.add(keras.layers.Dense(100, input_dim=784))\n",
    "model.add(keras.layers.Activation('relu'))\n",
    "model.add(Dropout(0.5))\n",
    "# model.add(keras.layers.Dense(50, init='uniform'))\n",
    "# model.add(keras.layers.Activation('relu'))\n",
    "model.add(keras.layers.Dense(10))\n",
    "model.add(keras.layers.Activation('softmax'))\n",
    "model.compile(optimizer='adam', loss='categorical_crossentropy', metrics=[\"accuracy\"])"
   ]
  },
  {
   "cell_type": "code",
   "execution_count": 9,
   "metadata": {},
   "outputs": [
    {
     "name": "stdout",
     "output_type": "stream",
     "text": [
      "Epoch 1/15\n",
      "600/600 [==============================] - 0s 777us/step - loss: 0.5259 - accuracy: 0.8442\n",
      "Epoch 2/15\n",
      "600/600 [==============================] - 0s 788us/step - loss: 0.2835 - accuracy: 0.9172\n",
      "Epoch 3/15\n",
      "600/600 [==============================] - 0s 816us/step - loss: 0.2361 - accuracy: 0.9306\n",
      "Epoch 4/15\n",
      "600/600 [==============================] - 0s 750us/step - loss: 0.2090 - accuracy: 0.9389\n",
      "Epoch 5/15\n",
      "600/600 [==============================] - 0s 767us/step - loss: 0.1893 - accuracy: 0.9435\n",
      "Epoch 6/15\n",
      "600/600 [==============================] - 0s 774us/step - loss: 0.1763 - accuracy: 0.9474\n",
      "Epoch 7/15\n",
      "600/600 [==============================] - 0s 800us/step - loss: 0.1689 - accuracy: 0.9490\n",
      "Epoch 8/15\n",
      "600/600 [==============================] - 0s 784us/step - loss: 0.1607 - accuracy: 0.9520\n",
      "Epoch 9/15\n",
      "600/600 [==============================] - 0s 782us/step - loss: 0.1507 - accuracy: 0.9544\n",
      "Epoch 10/15\n",
      "600/600 [==============================] - 1s 835us/step - loss: 0.1464 - accuracy: 0.9552\n",
      "Epoch 11/15\n",
      "600/600 [==============================] - 0s 763us/step - loss: 0.1416 - accuracy: 0.9569\n",
      "Epoch 12/15\n",
      "600/600 [==============================] - 0s 800us/step - loss: 0.1376 - accuracy: 0.9579\n",
      "Epoch 13/15\n",
      "600/600 [==============================] - 0s 756us/step - loss: 0.1333 - accuracy: 0.9597\n",
      "Epoch 14/15\n",
      "600/600 [==============================] - 0s 764us/step - loss: 0.1328 - accuracy: 0.9586\n",
      "Epoch 15/15\n",
      "600/600 [==============================] - 0s 766us/step - loss: 0.1236 - accuracy: 0.9614\n",
      "313/313 [==============================] - 0s 484us/step - loss: 0.0894 - accuracy: 0.9741\n",
      "Accuracy = 0.97\n"
     ]
    }
   ],
   "source": [
    "model.fit(x_train, y_train, epochs=15, batch_size=100, verbose=1);\n",
    "loss, accuracy = model.evaluate(x_test, y_test, verbose=1)\n",
    "print(\"Accuracy = {:.2f}\".format(accuracy))"
   ]
  },
  {
   "cell_type": "code",
   "execution_count": 10,
   "metadata": {},
   "outputs": [
    {
     "name": "stdout",
     "output_type": "stream",
     "text": [
      "Model: \"sequential_1\"\n",
      "_________________________________________________________________\n",
      "Layer (type)                 Output Shape              Param #   \n",
      "=================================================================\n",
      "dense (Dense)                (None, 100)               78500     \n",
      "_________________________________________________________________\n",
      "activation (Activation)      (None, 100)               0         \n",
      "_________________________________________________________________\n",
      "dropout (Dropout)            (None, 100)               0         \n",
      "_________________________________________________________________\n",
      "dense_1 (Dense)              (None, 10)                1010      \n",
      "_________________________________________________________________\n",
      "activation_1 (Activation)    (None, 10)                0         \n",
      "=================================================================\n",
      "Total params: 79,510\n",
      "Trainable params: 79,510\n",
      "Non-trainable params: 0\n",
      "_________________________________________________________________\n"
     ]
    }
   ],
   "source": [
    "model.summary()"
   ]
  },
  {
   "cell_type": "code",
   "execution_count": 11,
   "metadata": {},
   "outputs": [],
   "source": [
    "model.save('model.h5')"
   ]
  }
 ],
 "metadata": {
  "kernelspec": {
   "display_name": "Python 3",
   "language": "python",
   "name": "python3"
  },
  "language_info": {
   "codemirror_mode": {
    "name": "ipython",
    "version": 3
   },
   "file_extension": ".py",
   "mimetype": "text/x-python",
   "name": "python",
   "nbconvert_exporter": "python",
   "pygments_lexer": "ipython3",
   "version": "3.8.5"
  }
 },
 "nbformat": 4,
 "nbformat_minor": 2
}
