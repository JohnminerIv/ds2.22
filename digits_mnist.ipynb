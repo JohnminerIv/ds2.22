{
 "cells": [
  {
   "cell_type": "code",
   "execution_count": 51,
   "metadata": {},
   "outputs": [],
   "source": [
    "import keras\n",
    "import matplotlib.pyplot as plt #This package is for plotting\n",
    "%matplotlib inline  \n",
    "import numpy as np\n",
    "from keras.datasets import mnist\n",
    "from keras.models import Sequential\n",
    "from keras.layers import Dense, Input, Dropout\n",
    "from keras.optimizers import SGD\n",
    "from keras.initializers import RandomNormal\n",
    "from keras.models import load_model"
   ]
  },
  {
   "cell_type": "code",
   "execution_count": 52,
   "metadata": {},
   "outputs": [],
   "source": [
    "(X_train, y_train), (X_test, y_test) = mnist.load_data()"
   ]
  },
  {
   "cell_type": "code",
   "execution_count": 53,
   "metadata": {},
   "outputs": [],
   "source": [
    "x_train = np.reshape(X_train,[-1, 28*28])\n",
    "x_test = np.reshape(X_test,[-1, 28*28])"
   ]
  },
  {
   "cell_type": "code",
   "execution_count": 54,
   "metadata": {},
   "outputs": [
    {
     "data": {
      "text/plain": [
       "784"
      ]
     },
     "execution_count": 54,
     "metadata": {},
     "output_type": "execute_result"
    }
   ],
   "source": [
    "28*28"
   ]
  },
  {
   "cell_type": "code",
   "execution_count": 55,
   "metadata": {},
   "outputs": [],
   "source": [
    "x_train = x_train/np.max(x_train)\n",
    "x_test = x_test/np.max(x_test)"
   ]
  },
  {
   "cell_type": "code",
   "execution_count": 56,
   "metadata": {},
   "outputs": [],
   "source": [
    "y_train = keras.utils.to_categorical(y_train, 10)\n",
    "y_test = keras.utils.to_categorical(y_test, 10)"
   ]
  },
  {
   "cell_type": "code",
   "execution_count": 57,
   "metadata": {},
   "outputs": [
    {
     "name": "stderr",
     "output_type": "stream",
     "text": [
      "/Users/johnminer/Library/Python/3.7/lib/python/site-packages/ipykernel_launcher.py:2: UserWarning: Update your `Dense` call to the Keras 2 API: `Dense(100, input_dim=784, kernel_initializer=\"uniform\")`\n",
      "  \n",
      "/Users/johnminer/Library/Python/3.7/lib/python/site-packages/ipykernel_launcher.py:7: UserWarning: Update your `Dense` call to the Keras 2 API: `Dense(10, kernel_initializer=\"uniform\")`\n",
      "  import sys\n"
     ]
    }
   ],
   "source": [
    "model = keras.Sequential()\n",
    "model.add(keras.layers.Dense(100, input_dim=784, init='uniform'))\n",
    "model.add(keras.layers.Activation('relu'))\n",
    "model.add(Dropout(0.5))\n",
    "# model.add(keras.layers.Dense(50, init='uniform'))\n",
    "# model.add(keras.layers.Activation('relu'))\n",
    "model.add(keras.layers.Dense(10, init='uniform'))\n",
    "model.add(keras.layers.Activation('softmax'))\n",
    "model.compile(optimizer='adam', loss='categorical_crossentropy', metrics=[\"accuracy\"])"
   ]
  },
  {
   "cell_type": "code",
   "execution_count": 58,
   "metadata": {},
   "outputs": [
    {
     "name": "stdout",
     "output_type": "stream",
     "text": [
      "Epoch 1/15\n",
      "60000/60000 [==============================] - 1s 18us/step - loss: 0.5783 - accuracy: 0.8378\n",
      "Epoch 2/15\n",
      "60000/60000 [==============================] - 1s 15us/step - loss: 0.2996 - accuracy: 0.9134\n",
      "Epoch 3/15\n",
      "60000/60000 [==============================] - 1s 15us/step - loss: 0.2496 - accuracy: 0.9268\n",
      "Epoch 4/15\n",
      "60000/60000 [==============================] - 1s 16us/step - loss: 0.2184 - accuracy: 0.9357\n",
      "Epoch 5/15\n",
      "60000/60000 [==============================] - 1s 16us/step - loss: 0.2013 - accuracy: 0.9420\n",
      "Epoch 6/15\n",
      "60000/60000 [==============================] - 1s 16us/step - loss: 0.1856 - accuracy: 0.9451\n",
      "Epoch 7/15\n",
      "60000/60000 [==============================] - 1s 16us/step - loss: 0.1769 - accuracy: 0.9479\n",
      "Epoch 8/15\n",
      "60000/60000 [==============================] - 1s 16us/step - loss: 0.1661 - accuracy: 0.9504\n",
      "Epoch 9/15\n",
      "60000/60000 [==============================] - 1s 16us/step - loss: 0.1577 - accuracy: 0.9521\n",
      "Epoch 10/15\n",
      "60000/60000 [==============================] - 1s 16us/step - loss: 0.1533 - accuracy: 0.9530\n",
      "Epoch 11/15\n",
      "60000/60000 [==============================] - 1s 16us/step - loss: 0.1487 - accuracy: 0.9557\n",
      "Epoch 12/15\n",
      "60000/60000 [==============================] - 1s 16us/step - loss: 0.1405 - accuracy: 0.9563\n",
      "Epoch 13/15\n",
      "60000/60000 [==============================] - 1s 17us/step - loss: 0.1353 - accuracy: 0.9583\n",
      "Epoch 14/15\n",
      "60000/60000 [==============================] - 1s 16us/step - loss: 0.1336 - accuracy: 0.9586\n",
      "Epoch 15/15\n",
      "60000/60000 [==============================] - 1s 19us/step - loss: 0.1327 - accuracy: 0.9592\n",
      "10000/10000 [==============================] - 0s 17us/step\n",
      "Accuracy = 0.97\n"
     ]
    }
   ],
   "source": [
    "model.fit(x_train, y_train, epochs=15, batch_size=100, verbose=1);\n",
    "loss, accuracy = model.evaluate(x_test, y_test, verbose=1)\n",
    "print(\"Accuracy = {:.2f}\".format(accuracy))"
   ]
  },
  {
   "cell_type": "code",
   "execution_count": 59,
   "metadata": {},
   "outputs": [
    {
     "name": "stdout",
     "output_type": "stream",
     "text": [
      "Model: \"sequential_17\"\n",
      "_________________________________________________________________\n",
      "Layer (type)                 Output Shape              Param #   \n",
      "=================================================================\n",
      "dense_38 (Dense)             (None, 100)               78500     \n",
      "_________________________________________________________________\n",
      "activation_38 (Activation)   (None, 100)               0         \n",
      "_________________________________________________________________\n",
      "dropout_6 (Dropout)          (None, 100)               0         \n",
      "_________________________________________________________________\n",
      "dense_39 (Dense)             (None, 10)                1010      \n",
      "_________________________________________________________________\n",
      "activation_39 (Activation)   (None, 10)                0         \n",
      "=================================================================\n",
      "Total params: 79,510\n",
      "Trainable params: 79,510\n",
      "Non-trainable params: 0\n",
      "_________________________________________________________________\n"
     ]
    }
   ],
   "source": [
    "model.summary()"
   ]
  },
  {
   "cell_type": "code",
   "execution_count": 60,
   "metadata": {},
   "outputs": [
    {
     "data": {
      "text/plain": [
       "401408"
      ]
     },
     "execution_count": 60,
     "metadata": {},
     "output_type": "execute_result"
    }
   ],
   "source": [
    "784*512"
   ]
  },
  {
   "cell_type": "code",
   "execution_count": null,
   "metadata": {},
   "outputs": [],
   "source": []
  }
 ],
 "metadata": {
  "kernelspec": {
   "display_name": "Python 3",
   "language": "python",
   "name": "python3"
  },
  "language_info": {
   "codemirror_mode": {
    "name": "ipython",
    "version": 3
   },
   "file_extension": ".py",
   "mimetype": "text/x-python",
   "name": "python",
   "nbconvert_exporter": "python",
   "pygments_lexer": "ipython3",
   "version": "3.7.6"
  }
 },
 "nbformat": 4,
 "nbformat_minor": 2
}
