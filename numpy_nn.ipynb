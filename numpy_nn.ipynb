{
 "cells": [
  {
   "cell_type": "code",
   "execution_count": 1,
   "metadata": {},
   "outputs": [],
   "source": [
    "import numpy as np"
   ]
  },
  {
   "cell_type": "code",
   "execution_count": 2,
   "metadata": {},
   "outputs": [],
   "source": [
    "X = np.array([[1,0,1,0],[1,0,1,1],[0,1,0,1]])\n",
    "y = np.array([[1],[1],[0]])"
   ]
  },
  {
   "cell_type": "code",
   "execution_count": 17,
   "metadata": {},
   "outputs": [
    {
     "ename": "IndentationError",
     "evalue": "expected an indented block (<ipython-input-17-57840563f54f>, line 10)",
     "output_type": "error",
     "traceback": [
      "\u001b[0;36m  File \u001b[0;32m\"<ipython-input-17-57840563f54f>\"\u001b[0;36m, line \u001b[0;32m10\u001b[0m\n\u001b[0;31m    def sigmoid(self, number):\u001b[0m\n\u001b[0m    ^\u001b[0m\n\u001b[0;31mIndentationError\u001b[0m\u001b[0;31m:\u001b[0m expected an indented block\n"
     ]
    }
   ],
   "source": [
    "class my_network():\n",
    "    def __init__(self):\n",
    "        self.weights = np.array([[np.random.rand(3) for i in range(4)], [np.random.rand(3)]])\n",
    "        self.biases = np.array([np.random.rand(3), np.random.rand(1)])\n",
    "    \n",
    "    def predict(self, ls_inputs):\n",
    "        prediction = []\n",
    "        for item in ls_inputs:\n",
    "            pred = item[:,None]\n",
    "            for weight, bias in zip(self.weights, self.biases):\n",
    "                pred = np.dot(weights[weight], pred) + bias[:,None]\n",
    "            prediction.append(pred)\n",
    "        return np.array(prediction)\n",
    "                \n",
    "    \n",
    "    def sigmoid(self, number):\n",
    "        return 1/(1+(2.718**number))\n",
    "\n",
    "    def mse_function(self, ls1, ls2):\n",
    "        return sum([(ls1[i]-ls2[i])**2 for i in range(len(ls1))])\n",
    "    \n",
    "    def back_prop(self, pred, actual):\n",
    "        mses = []\n",
    "        for i in range(len(pred)):\n",
    "            mses.append(pred[i], actual[i])\n",
    "        mean_mse = np.mean(mses)\n",
    "        for weight in range(len(self.weights)):\n",
    "            \n",
    "            for line in range(len(weight)):\n",
    "                self.weight[weight][line]\n",
    "            \n",
    "        "
   ]
  },
  {
   "cell_type": "code",
   "execution_count": 65,
   "metadata": {},
   "outputs": [],
   "source": [
    "weights = np.array([[np.random.rand(4) for i in range(3)]])\n",
    "biases = np.array([np.random.rand(3), np.random.rand(1)])"
   ]
  },
  {
   "cell_type": "code",
   "execution_count": 66,
   "metadata": {},
   "outputs": [
    {
     "data": {
      "text/plain": [
       "array([[1.36867646],\n",
       "       [1.92082055],\n",
       "       [2.10023338]])"
      ]
     },
     "execution_count": 66,
     "metadata": {},
     "output_type": "execute_result"
    }
   ],
   "source": [
    "np.dot(weights[0], X[0][:,None]) + biases[0][:,None]"
   ]
  },
  {
   "cell_type": "code",
   "execution_count": 58,
   "metadata": {},
   "outputs": [
    {
     "data": {
      "text/plain": [
       "array([[[0.6300729 , 0.05001952, 0.44123161, 0.40325779],\n",
       "        [0.21606831, 0.30343246, 0.18304949, 0.53273873],\n",
       "        [0.42347936, 0.0945498 , 0.46559401, 0.37078484]]])"
      ]
     },
     "execution_count": 58,
     "metadata": {},
     "output_type": "execute_result"
    }
   ],
   "source": [
    "weights"
   ]
  },
  {
   "cell_type": "code",
   "execution_count": 59,
   "metadata": {},
   "outputs": [
    {
     "data": {
      "text/plain": [
       "array([[1],\n",
       "       [0],\n",
       "       [1],\n",
       "       [0]])"
      ]
     },
     "execution_count": 59,
     "metadata": {},
     "output_type": "execute_result"
    }
   ],
   "source": [
    "X[0][:,None]"
   ]
  },
  {
   "cell_type": "code",
   "execution_count": null,
   "metadata": {},
   "outputs": [],
   "source": []
  }
 ],
 "metadata": {
  "kernelspec": {
   "display_name": "Python 3",
   "language": "python",
   "name": "python3"
  },
  "language_info": {
   "codemirror_mode": {
    "name": "ipython",
    "version": 3
   },
   "file_extension": ".py",
   "mimetype": "text/x-python",
   "name": "python",
   "nbconvert_exporter": "python",
   "pygments_lexer": "ipython3",
   "version": "3.7.6"
  }
 },
 "nbformat": 4,
 "nbformat_minor": 2
}
